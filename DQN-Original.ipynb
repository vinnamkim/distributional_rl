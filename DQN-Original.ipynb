{
 "cells": [
  {
   "cell_type": "code",
   "execution_count": 1,
   "metadata": {},
   "outputs": [],
   "source": [
    "import gym\n",
    "import random\n",
    "import torch\n",
    "import numpy as np\n",
    "from collections import deque\n",
    "import matplotlib.pyplot as plt\n",
    "from agents.q_learner import Q_learner\n",
    "from agents.distrib_learner import Distrib_learner\n",
    "\n",
    "%matplotlib inline"
   ]
  },
  {
   "cell_type": "code",
   "execution_count": 2,
   "metadata": {},
   "outputs": [
    {
     "name": "stdout",
     "output_type": "stream",
     "text": [
      "torch.Size([3, 1])\n",
      "tensor([[-0.1807, -0.1580,  0.5362],\n",
      "        [ 1.3032,  2.0668,  0.5171],\n",
      "        [ 1.6738,  0.1533, -1.9882]])\n",
      "tensor([[0., 0., 0.],\n",
      "        [0., 0., 0.],\n",
      "        [0., 0., 0.]])\n",
      "tensor([[ 0.0000,  0.0000, -0.1807],\n",
      "        [ 0.0000,  1.3032,  0.0000],\n",
      "        [ 1.6738,  0.0000,  0.0000]])\n"
     ]
    }
   ],
   "source": [
    "indices = torch.Tensor([[2],[1],[0]]).long()\n",
    "print(indices.size())\n",
    "mask = torch.zeros(3, 3)\n",
    "src = torch.randn(3,3)\n",
    "print(src)\n",
    "print(mask)\n",
    "mask.scatter_(1, indices , src)\n",
    "print(mask)\n"
   ]
  },
  {
   "cell_type": "code",
   "execution_count": 3,
   "metadata": {},
   "outputs": [],
   "source": [
    "args = dict()\n",
    "args[\"BUFFER_SIZE\"] = int(500)  # replay buffer size\n",
    "args[\"BATCH_SIZE\"] = 32  # minibatch size\n",
    "args[\"GAMMA\"] = 0.95  # discount factor\n",
    "args[\"TAU\"] = 1e-3  # for soft update of target parameters\n",
    "args[\"LR\"] = 0.001  # learning rate\n",
    "args[\"UPDATE_EVERY\"] = 4  # how often to update the network"
   ]
  },
  {
   "cell_type": "code",
   "execution_count": 4,
   "metadata": {},
   "outputs": [],
   "source": [
    "env = gym.make('CartPole-v1')\n",
    "env.seed(0)\n",
    "agent = Distrib_learner(N=100, Vmin=-300, Vmax=300, state_size=env.observation_space.shape[0], action_size= env.action_space.n, seed=0, hiddens = [24,24], args = args)"
   ]
  },
  {
   "cell_type": "code",
   "execution_count": 9,
   "metadata": {},
   "outputs": [],
   "source": [
    "state = env.reset()"
   ]
  },
  {
   "cell_type": "code",
   "execution_count": 6,
   "metadata": {},
   "outputs": [
    {
     "name": "stdout",
     "output_type": "stream",
     "text": [
      "Episode 100\tAverage Score: 17.54\n",
      "Episode 200\tAverage Score: 13.15\n",
      "Episode 300\tAverage Score: 11.44\n",
      "Episode 400\tAverage Score: 10.43\n",
      "Episode 500\tAverage Score: 9.840\n",
      "Episode 600\tAverage Score: 9.80\n",
      "Episode 700\tAverage Score: 9.72\n",
      "Episode 800\tAverage Score: 9.42\n",
      "Episode 900\tAverage Score: 9.82\n",
      "Episode 1000\tAverage Score: 10.32\n",
      "Episode 1100\tAverage Score: 11.46\n",
      "Episode 1200\tAverage Score: 12.38\n",
      "Episode 1300\tAverage Score: 36.87\n",
      "Episode 1400\tAverage Score: 54.30\n",
      "Episode 1500\tAverage Score: 107.76\n",
      "Episode 1600\tAverage Score: 118.52\n",
      "Episode 1700\tAverage Score: 137.19\n",
      "Episode 1800\tAverage Score: 122.84\n",
      "Episode 1900\tAverage Score: 129.25\n",
      "Episode 2000\tAverage Score: 115.94\n",
      "Episode 2100\tAverage Score: 120.12\n",
      "Episode 2200\tAverage Score: 166.55\n",
      "Episode 2300\tAverage Score: 177.93\n",
      "Episode 2400\tAverage Score: 129.04\n",
      "Episode 2500\tAverage Score: 186.41\n",
      "Episode 2600\tAverage Score: 176.79\n",
      "Episode 2632\tAverage Score: 200.15\n",
      "Environment solved in 2532 episodes!\tAverage Score: 200.15\n"
     ]
    },
    {
     "data": {
      "image/png": "[encoded data removed]",
      "text/plain": [
       "<Figure size 432x288 with 1 Axes>"
      ]
     },
     "metadata": {
      "needs_background": "light"
     },
     "output_type": "display_data"
    }
   ],
   "source": [
    "def dqn(n_episodes=10000, max_t=1000, eps_start=1, eps_end=0.01, eps_decay=0.995):\n",
    "\n",
    "    scores = []                        # list containing scores from each episode\n",
    "    scores_window = deque(maxlen=100)  # last 100 scores\n",
    "    eps = eps_start                    # initialize epsilon\n",
    "    for i_episode in range(1, n_episodes+1):\n",
    "        state = env.reset()\n",
    "        score = 0\n",
    "        for t in range(max_t):\n",
    "            action = agent.act(state.reshape([1, -1]), eps)\n",
    "            next_state, reward, done, _ = env.step(action)\n",
    "            agent.step(state, action, reward, next_state, done)\n",
    "            state = next_state\n",
    "            score += reward\n",
    "            if done:\n",
    "                break \n",
    "        scores_window.append(score)       # save most recent score\n",
    "        scores.append(score)              # save most recent score\n",
    "        eps = max(eps_end, eps_decay*eps) # decrease epsilon\n",
    "        \n",
    "        print('\\rEpisode {}\\tAverage Score: {:.2f}'.format(i_episode, np.mean(scores_window)), end=\"\")\n",
    "        if i_episode % 100 == 0:\n",
    "            print('\\rEpisode {}\\tAverage Score: {:.2f}'.format(i_episode, np.mean(scores_window)))\n",
    "        if np.mean(scores_window)>=200.0:\n",
    "            print('\\nEnvironment solved in {:d} episodes!\\tAverage Score: {:.2f}'.format(i_episode-100, np.mean(scores_window)))\n",
    "            torch.save(agent.qnetwork_local.state_dict(), 'models/checkpoints/checkpoint.pth')\n",
    "            break\n",
    "    return scores\n",
    "\n",
    "scores = dqn()\n",
    "\n",
    "# plot the scores\n",
    "fig = plt.figure()\n",
    "ax = fig.add_subplot(111)\n",
    "plt.plot(np.arange(len(scores)), scores)\n",
    "plt.ylabel('Score')\n",
    "plt.xlabel('Episode #')\n",
    "plt.show()\n"
   ]
  },
  {
   "cell_type": "code",
   "execution_count": null,
   "metadata": {},
   "outputs": [],
   "source": []
  }
 ],
 "metadata": {
  "kernelspec": {
   "display_name": "Python 3",
   "language": "python",
   "name": "python3"
  },
  "language_info": {
   "codemirror_mode": {
    "name": "ipython",
    "version": 3
   },
   "file_extension": ".py",
   "mimetype": "text/x-python",
   "name": "python",
   "nbconvert_exporter": "python",
   "pygments_lexer": "ipython3",
   "version": "3.6.8"
  }
 },
 "nbformat": 4,
 "nbformat_minor": 2
}
